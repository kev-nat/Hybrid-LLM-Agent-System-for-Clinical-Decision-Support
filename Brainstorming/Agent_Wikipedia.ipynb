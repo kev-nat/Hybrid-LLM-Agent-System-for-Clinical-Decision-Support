{
 "cells": [
  {
   "cell_type": "code",
   "execution_count": null,
   "metadata": {},
   "outputs": [],
   "source": [
    "import os\n",
    "from dotenv import load_dotenv\n",
    "from langchain.agents import Tool\n",
    "from langchain_groq import ChatGroq\n",
    "from langchain.chat_models import ChatOpenAI\n",
    "from langchain.agents import initialize_agent\n",
    "from langchain_community.utilities.wikipedia import WikipediaAPIWrapper\n",
    "from langchain_community.tools.ddg_search.tool import DuckDuckGoSearchRun"
   ]
  },
  {
   "cell_type": "code",
   "execution_count": null,
   "metadata": {},
   "outputs": [],
   "source": [
    "load_dotenv\n",
    "openai_api_key = os.getenv(\"OPENAI_API_KEY\")"
   ]
  },
  {
   "cell_type": "code",
   "execution_count": null,
   "metadata": {},
   "outputs": [],
   "source": [
    "search_tool = Tool(\n",
    "    name=\"Wikipedia Search\",\n",
    "    func= WikipediaAPIWrapper().run,\n",
    "    description=\"Use this tool to perform web searches using Wikipedia.\"\n",
    ")\n",
    "\n",
    "llm = ChatGroq(\n",
    "    model_name=\"llama-3.3-70b-versatile\",\n",
    "    temperature=0.3\n",
    ")\n",
    "\n",
    "#llm = ChatOpenAI(model=\"gpt-3.5-turbo\", temperature=0.3)\n",
    "\n",
    "tools = [\n",
    "    Tool(\n",
    "        name=\"Search\",\n",
    "        func=search_tool.run,\n",
    "        description=\"Use this tool to perform Wikipedia searches.\"\n",
    "    )\n",
    "]\n",
    "\n",
    "agent = initialize_agent(tools, llm, agent=\"zero-shot-react-description\", verbose=True)"
   ]
  },
  {
   "cell_type": "code",
   "execution_count": null,
   "metadata": {},
   "outputs": [
    {
     "name": "stdout",
     "output_type": "stream",
     "text": [
      "\n",
      "\n",
      "\u001b[1m> Entering new AgentExecutor chain...\u001b[0m\n",
      "\u001b[32;1m\u001b[1;3mI should use the Search tool to find the composition of Lepirudin.\n",
      "Action: Search\n",
      "Action Input: Lepirudin composition\u001b[0m\n",
      "Observation: \u001b[36;1m\u001b[1;3mPage: Heparinoid\n",
      "Summary: Heparinoids are glycosaminoglycans which are chemically and pharmacologically related to heparin.  They include oligosaccharides and sulfated polysaccharides of plant, animal, or synthetic origin. Multiple scientific studies have been conducted on heparinoids.\n",
      "Heparinoids, like heparin, act by interacting with heparin binding proteins, generally through ionic interactions or hydrogen bonding. Some examples of heparin binding proteins include antithrombin III. It is thought that much protein interaction with heparin is not direct, and instead heparin binding protein actually interact with glycosaminoglycan (GAG) side chains or mucins bound to the heparin polymer, so it is possible that heparinoids interact with these proteins in a similar way, acquiring GAG side chains in vivo. One counterexample is the protein chymase, which directly binds to heparin.\u001b[0m\n",
      "Thought:\u001b[32;1m\u001b[1;3mThe search did not provide the specific composition of Lepirudin. I should try a more specific search.\n",
      "Action: Search\n",
      "Action Input: Lepirudin chemical composition\u001b[0m\n",
      "Observation: \u001b[36;1m\u001b[1;3mPage: Heparinoid\n",
      "Summary: Heparinoids are glycosaminoglycans which are chemically and pharmacologically related to heparin.  They include oligosaccharides and sulfated polysaccharides of plant, animal, or synthetic origin. Multiple scientific studies have been conducted on heparinoids.\n",
      "Heparinoids, like heparin, act by interacting with heparin binding proteins, generally through ionic interactions or hydrogen bonding. Some examples of heparin binding proteins include antithrombin III. It is thought that much protein interaction with heparin is not direct, and instead heparin binding protein actually interact with glycosaminoglycan (GAG) side chains or mucins bound to the heparin polymer, so it is possible that heparinoids interact with these proteins in a similar way, acquiring GAG side chains in vivo. One counterexample is the protein chymase, which directly binds to heparin.\u001b[0m\n",
      "Thought:\u001b[32;1m\u001b[1;3mThe search results are not providing the specific composition of Lepirudin. I should try a different approach.\n",
      "Action: Search\n",
      "Action Input: Lepirudin chemical structure\u001b[0m\n",
      "Observation: \u001b[36;1m\u001b[1;3mPage: Discovery and development of direct thrombin inhibitors\n",
      "Summary: Direct thrombin inhibitors (DTIs) are a class of anticoagulant drugs that can be used to prevent and treat embolisms and blood clots caused by various diseases. They inhibit thrombin, a serine protease which affects the coagulation cascade in many ways. DTIs have undergone rapid development since the 90's. With technological advances in genetic engineering the production of recombinant hirudin was made possible which opened the door to this new group of drugs. Before the use of DTIs the therapy and prophylaxis for anticoagulation had stayed the same for over 50 years with the use of heparin derivatives and warfarin which have some well known disadvantages. DTIs are still under development, but the research focus has shifted towards factor Xa inhibitors, or even dual thrombin and fXa inhibitors that have a broader mechanism of action by both inhibiting factor IIa (thrombin) and Xa. A recent review of patents and literature on thrombin inhibitors has demonstrated that the development of allosteric and multi-mechanism inhibitors might lead the way to a safer anticoagulant.\n",
      "\n",
      "Page: ATC code B01\n",
      "Summary: ATC code B01 Antithrombotic agents is a therapeutic subgroup of the Anatomical Therapeutic Chemical Classification System, a system of alphanumeric codes developed by the World Health Organization (WHO) for the classification of drugs and other medical products. Subgroup B01 is part of the anatomical group B Blood and blood forming organs.\n",
      "Codes for veterinary use (ATCvet codes) can be created by placing the letter Q in front of the human ATC code: for example, QB01. National issues of the ATC classification may include additional codes not present in this list, which follows the WHO version.\n",
      "\n",
      "Page: Hirudin\n",
      "Summary: Hirudin is a naturally occurring peptide in the salivary glands of blood-sucking leeches (such as Hirudo medicinalis) that has a blood anticoagulant property. This is essential for the leeches' habit of feeding on blood, since it keeps a host's blood flowing after the worm's initial puncture of the skin.\n",
      "Hirudin (MEROPS I14.001) belongs to a superfamily (MEROPS IM) of protease inhibitors that also includes haemadin (MEROPS I14.002) and antistasin (MEROPS I15).\u001b[0m\n",
      "Thought:\u001b[32;1m\u001b[1;3mThe search results are still not providing the specific composition of Lepirudin. I should try a different search term.\n",
      "Action: Search\n",
      "Action Input: Lepirudin molecular structure\u001b[0m\n",
      "Observation: \u001b[36;1m\u001b[1;3mPage: Discovery and development of direct thrombin inhibitors\n",
      "Summary: Direct thrombin inhibitors (DTIs) are a class of anticoagulant drugs that can be used to prevent and treat embolisms and blood clots caused by various diseases. They inhibit thrombin, a serine protease which affects the coagulation cascade in many ways. DTIs have undergone rapid development since the 90's. With technological advances in genetic engineering the production of recombinant hirudin was made possible which opened the door to this new group of drugs. Before the use of DTIs the therapy and prophylaxis for anticoagulation had stayed the same for over 50 years with the use of heparin derivatives and warfarin which have some well known disadvantages. DTIs are still under development, but the research focus has shifted towards factor Xa inhibitors, or even dual thrombin and fXa inhibitors that have a broader mechanism of action by both inhibiting factor IIa (thrombin) and Xa. A recent review of patents and literature on thrombin inhibitors has demonstrated that the development of allosteric and multi-mechanism inhibitors might lead the way to a safer anticoagulant.\n",
      "\n",
      "Page: Hirudin\n",
      "Summary: Hirudin is a naturally occurring peptide in the salivary glands of blood-sucking leeches (such as Hirudo medicinalis) that has a blood anticoagulant property. This is essential for the leeches' habit of feeding on blood, since it keeps a host's blood flowing after the worm's initial puncture of the skin.\n",
      "Hirudin (MEROPS I14.001) belongs to a superfamily (MEROPS IM) of protease inhibitors that also includes haemadin (MEROPS I14.002) and antistasin (MEROPS I15).\n",
      "\n",
      "Page: Coagulation\n",
      "Summary: Coagulation, also known as clotting, is the process by which blood changes from a liquid to a gel, forming a blood clot. It results in hemostasis, the cessation of blood loss from a damaged vessel, followed by repair. The process of coagulation involves activation, adhesion and aggregation of platelets, as well as deposition and maturation of fibrin.\n",
      "Coagulation begins almost instantly after an injury to the endothelium that lines a blood vessel. Exposure of blood to the subendothelial space initiates two processes: changes in platelets, and the exposure of subendothelial platelet tissue factor to coagulation factor VII, which ultimately leads to cross-linked fibrin formation. Platelets immediately form a plug at the site of injury; this is called primary hemostasis. Secondary hemostasis occurs simultaneously: additional coagulation factors beyond factor VII (listed below) respond in a cascade to form fibrin strands, which strengthen the platelet plug.\n",
      "Coagulation is highly conserved throughout biology. In all mammals, coagulation involves both cellular components (platelets) and proteinaceous components (coagulation or clotting factors). The pathway in humans has been the most extensively researched and is the best understood. Disorders of coagulation can result in problems with hemorrhage, bruising, or thrombosis.\u001b[0m\n",
      "Thought:\u001b[32;1m\u001b[1;3mThe search results are not providing the specific composition of Lepirudin. I should try a different search term.\n",
      "Action: Search\n",
      "Action Input: Lepirudin chemical formula\u001b[0m\n",
      "Observation: \u001b[36;1m\u001b[1;3mPage: Lepirudin\n",
      "Summary: Lepirudin is an anticoagulant that functions as a direct thrombin inhibitor.\n",
      "Brand name: Refludan, Generic: Lepirudin rDNA for injection.\n",
      "Lepirudin  is a recombinant hirudin derived from yeast cells.  Lepirudin is almost identical to hirudin extracted from Hirudo medicinalis, having the amino acid sequence LTYTDCTESGQNLCLCEGSNVCGQGNKCILGSDGEKNQCVTGEGTPKPQSHNDGDFEEIPEEYLQ with disulfide bridges at Cys6-Cys14, Cys16-Cys28 and Cys22-Cys39, and differs from by the substitution of leucine for isoleucine at the N-terminal end of the molecule and the absence of a sulfate group on the tyrosine at position 63.\n",
      "Lepirudin may be used as an anticoagulant when heparins (unfractionated or low-molecular-weight) are contraindicated because of heparin-induced thrombocytopenia.\n",
      "\n",
      "\n",
      "\n",
      "Page: List of compounds with carbon numbers 50+\n",
      "Summary: This is a partial list of molecules that contain at least 50 carbon atoms.\n",
      "\n",
      "Page: Argatroban\n",
      "Summary: Argatroban is an anticoagulant that is a small molecule direct thrombin inhibitor.  In 2000, argatroban was licensed by the US Food and Drug Administration (FDA) for prophylaxis or treatment of thrombosis in people with heparin-induced thrombocytopenia (HIT). In 2002, it was approved for use during percutaneous coronary interventions in people who have HIT or are at risk for developing it. In 2012, it was approved by the UK Medicines and Healthcare products Regulatory Agency for anticoagulation in people with heparin-induced thrombocytopenia Type II (HIT) who require parenteral antithrombotic therapy.\n",
      "Argatroban is given intravenously and drug plasma concentrations reach steady state in 1–3 hours. Argatroban is metabolized in the liver and has a half-life of about 50 minutes.  It is monitored by PTT.  Because of its hepatic metabolism, it may be used in patients with renal dysfunction.  (This is in contrast to lepirudin, a direct thrombin inhibitor that is primarily renally cleared).\u001b[0m\n",
      "Thought:\u001b[32;1m\u001b[1;3mI now know the final answer\n",
      "Final Answer: Lepirudin is a recombinant hirudin derived from yeast cells, almost identical to hirudin extracted from Hirudo medicinalis.\u001b[0m\n",
      "\n",
      "\u001b[1m> Finished chain.\u001b[0m\n",
      "Lepirudin is a recombinant hirudin derived from yeast cells, almost identical to hirudin extracted from Hirudo medicinalis.\n"
     ]
    }
   ],
   "source": [
    "response = agent.run(\"What is the composition of Lepirudin?\")\n",
    "print(response)"
   ]
  }
 ],
 "metadata": {
  "kernelspec": {
   "display_name": "torch",
   "language": "python",
   "name": "python3"
  },
  "language_info": {
   "codemirror_mode": {
    "name": "ipython",
    "version": 3
   },
   "file_extension": ".py",
   "mimetype": "text/x-python",
   "name": "python",
   "nbconvert_exporter": "python",
   "pygments_lexer": "ipython3",
   "version": "3.10.14"
  }
 },
 "nbformat": 4,
 "nbformat_minor": 2
}
